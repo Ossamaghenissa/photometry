{
 "cells": [
  {
   "cell_type": "code",
   "execution_count": 4,
   "metadata": {},
   "outputs": [],
   "source": [
    "## IMPORT \n",
    "import os\n",
    "import numpy as  np\n",
    "import pandas as pd\n",
    "import glob\n",
    "import os"
   ]
  },
  {
   "cell_type": "markdown",
   "metadata": {},
   "source": [
    "### set params"
   ]
  },
  {
   "cell_type": "code",
   "execution_count": 5,
   "metadata": {},
   "outputs": [],
   "source": [
    "# Pre-tone and post-tone window settings\n",
    "pre_tone = -5\n",
    "post_tone = 30\n",
    "sampling_freq = 60\n",
    "\n",
    "presample = int(abs(pre_tone * sampling_freq))  # Number of samples before the tone\n",
    "postsample = int(abs(post_tone * sampling_freq))  # Number of samples after the tone\n",
    "\n",
    "total_samples = presample + postsample +1  # Total samples from -5 to 30 seconds\n",
    "\n",
    "\n"
   ]
  },
  {
   "cell_type": "markdown",
   "metadata": {},
   "source": [
    "### add columns"
   ]
  },
  {
   "cell_type": "code",
   "execution_count": 6,
   "metadata": {},
   "outputs": [],
   "source": [
    "directory = '/Users/ossamaghenissa/Desktop/CMRlabproject/fiberphotometry/ADFCFP/female/ADFCfemales/preprocessed'\n",
    "os.chdir(directory)\n",
    "# Find all CSV files in the directory\n",
    "csv_files = glob.glob( \"*.csv\")\n",
    "\n",
    "\n",
    "events = ['Tone', 'Wn'] \n",
    "\n",
    "\n",
    "# Loop through each CSV, then concatenate them into a single df\n",
    "for file in csv_files:\n",
    "    single = pd.read_csv(file)\n",
    "\n",
    "    for event in events: \n",
    "        \n",
    "            onset_indices = single[(single[event].shift(1) == 0) & (single[event] == 1)].index\n",
    "            start_idx = np.array(onset_indices - presample)\n",
    "            end_idx = np.array(onset_indices + postsample)\n",
    "            \n",
    "          \n",
    "            # Assign trial number and time vector\n",
    "            for t, onset in enumerate(onset_indices):\n",
    "\n",
    "                if end_idx[t] >= len(single) :\n",
    "                    diff = end_idx[t]-len(single)\n",
    "                    time_vector = time_vector[0:-diff-1]\n",
    "                    end_idx[t] = single.tail(1).index.item() \n",
    "                     \n",
    "                else: \n",
    "                    time_vector =np.linspace(pre_tone, post_tone, total_samples)\n",
    "\n",
    "\n",
    "                single.loc[start_idx[t]:end_idx[t], 'trial'] = t + 1\n",
    "                single.loc[start_idx[t]:end_idx[t], 'trial_type'] = event\n",
    "                single.loc[start_idx[t]:end_idx[t], 'time_vector'] = time_vector\n",
    "\n",
    "    \n",
    "    single.to_csv(f'../processed/{file}')\n",
    "    \n",
    "\n"
   ]
  }
 ],
 "metadata": {
  "kernelspec": {
   "display_name": "base",
   "language": "python",
   "name": "python3"
  },
  "language_info": {
   "codemirror_mode": {
    "name": "ipython",
    "version": 3
   },
   "file_extension": ".py",
   "mimetype": "text/x-python",
   "name": "python",
   "nbconvert_exporter": "python",
   "pygments_lexer": "ipython3",
   "version": "3.12.2"
  }
 },
 "nbformat": 4,
 "nbformat_minor": 2
}
